{
  "nbformat": 4,
  "nbformat_minor": 0,
  "metadata": {
    "colab": {
      "provenance": [],
      "authorship_tag": "ABX9TyOborCxAGkN02mDiWPXXk3d",
      "include_colab_link": true
    },
    "kernelspec": {
      "name": "python3",
      "display_name": "Python 3"
    },
    "language_info": {
      "name": "python"
    }
  },
  "cells": [
    {
      "cell_type": "markdown",
      "metadata": {
        "id": "view-in-github",
        "colab_type": "text"
      },
      "source": [
        "<a href=\"https://colab.research.google.com/github/Samira1356/new-repo/blob/main/Linear_Regression_with_basic_PyTorch.ipynb\" target=\"_parent\"><img src=\"https://colab.research.google.com/assets/colab-badge.svg\" alt=\"Open In Colab\"/></a>"
      ]
    },
    {
      "cell_type": "code",
      "source": [
        "import pandas as pd\n",
        "# ------------------------- 🌱 Data Creation with Region -------------------------\n",
        "# Create DataFrame with features (including Region) and targets\n",
        "data = {\n",
        "    \"Region\": [\"North\", \"South\", \"East\", \"West\", \"Central\"],\n",
        "    \"Humidity\": [70, 65, 80, 60, 75],\n",
        "    \"Temperature\": [25, 30, 28, 32, 27],\n",
        "    \"Rainfall\": [100, 80, 120, 90, 110],\n",
        "    \"Apple_Yield\": [150, 140, 170, 135, 165],\n",
        "    \"Orange_Yield\": [160, 155, 180, 145, 175]\n",
        "}\n",
        "\n",
        "df = pd.DataFrame(data)\n",
        "print(\"📊 DataFrame with Region:\\n\", df)\n"
      ],
      "metadata": {
        "colab": {
          "base_uri": "https://localhost:8080/"
        },
        "id": "ewLIPTIsg7S1",
        "outputId": "810f42c6-3ef0-40fe-a22c-381b3ff2e761"
      },
      "execution_count": 33,
      "outputs": [
        {
          "output_type": "stream",
          "name": "stdout",
          "text": [
            "📊 DataFrame with Region:\n",
            "     Region  Humidity  Temperature  Rainfall  Apple_Yield  Orange_Yield\n",
            "0    North        70           25       100          150           160\n",
            "1    South        65           30        80          140           155\n",
            "2     East        80           28       120          170           180\n",
            "3     West        60           32        90          135           145\n",
            "4  Central        75           27       110          165           175\n"
          ]
        }
      ]
    },
    {
      "cell_type": "markdown",
      "source": [
        "In Linear Regression moedel, each target variable is estimated to be weighted sum of the inout variables, offset by some constant called bias."
      ],
      "metadata": {
        "id": "e3-pNsr2hLCm"
      }
    },
    {
      "cell_type": "markdown",
      "source": [
        "#### Yield_apple = w11 * temp + w12 * rainfall + w13 * humidity + b1\n",
        "#### Yield_orange = w21 * temp + w22 * rainfall + w23 * humidity + b2"
      ],
      "metadata": {
        "id": "cO6gj3EHhown"
      }
    },
    {
      "cell_type": "markdown",
      "source": [
        "####  Create data frame with features: Humidity, Temprature, Rainfall\n",
        "####  targets: Apple_Yield and Orange_Yield\n"
      ],
      "metadata": {
        "id": "QJYs0_pCkE1N"
      }
    },
    {
      "cell_type": "code",
      "source": [
        "import numpy as np\n",
        "import torch"
      ],
      "metadata": {
        "id": "20w9YNKpj7pN"
      },
      "execution_count": 34,
      "outputs": []
    },
    {
      "cell_type": "code",
      "source": [
        "# represent data into two matrix input as X and target as y\n",
        "X = df[[\"Humidity\", \"Temperature\", \"Rainfall\"]]\n",
        "y = df[[\"Apple_Yield\", \"Orange_Yield\"]]"
      ],
      "metadata": {
        "id": "KPQ9aaVpkM9y"
      },
      "execution_count": 31,
      "outputs": []
    },
    {
      "cell_type": "code",
      "source": [
        "print(type(X))\n",
        "print(type(y))"
      ],
      "metadata": {
        "colab": {
          "base_uri": "https://localhost:8080/"
        },
        "id": "kr-R3YyzkI4K",
        "outputId": "90758677-2dd6-4bc5-893f-641b3f7a882c"
      },
      "execution_count": 32,
      "outputs": [
        {
          "output_type": "stream",
          "name": "stdout",
          "text": [
            "<class 'pandas.core.frame.DataFrame'>\n",
            "<class 'pandas.core.frame.DataFrame'>\n"
          ]
        }
      ]
    },
    {
      "cell_type": "code",
      "source": [
        "# create X and y\n",
        "X = df[[\"Humidity\", \"Temperature\", \"Rainfall\"]]\n",
        "y = df[[\"Apple_Yield\", \"Orange_Yield\"]]"
      ],
      "metadata": {
        "id": "JgbhrwV3PHQq"
      },
      "execution_count": 35,
      "outputs": []
    },
    {
      "cell_type": "code",
      "source": [
        "print(X)"
      ],
      "metadata": {
        "colab": {
          "base_uri": "https://localhost:8080/"
        },
        "id": "DjG6Y618POQw",
        "outputId": "34bef77a-5d90-4ec0-c7eb-607921f133e6"
      },
      "execution_count": 36,
      "outputs": [
        {
          "output_type": "stream",
          "name": "stdout",
          "text": [
            "   Humidity  Temperature  Rainfall\n",
            "0        70           25       100\n",
            "1        65           30        80\n",
            "2        80           28       120\n",
            "3        60           32        90\n",
            "4        75           27       110\n"
          ]
        }
      ]
    },
    {
      "cell_type": "code",
      "source": [
        "print(y)"
      ],
      "metadata": {
        "colab": {
          "base_uri": "https://localhost:8080/"
        },
        "id": "8QByaWwJPQ-W",
        "outputId": "cccafdad-245b-47d8-9f66-307ce4b68a45"
      },
      "execution_count": 37,
      "outputs": [
        {
          "output_type": "stream",
          "name": "stdout",
          "text": [
            "   Apple_Yield  Orange_Yield\n",
            "0          150           160\n",
            "1          140           155\n",
            "2          170           180\n",
            "3          135           145\n",
            "4          165           175\n"
          ]
        }
      ]
    },
    {
      "cell_type": "code",
      "source": [
        "# check the type of X and y\n",
        "print(type(X))\n",
        "print(type(y))"
      ],
      "metadata": {
        "colab": {
          "base_uri": "https://localhost:8080/"
        },
        "id": "7F3YiMDcPTLT",
        "outputId": "978a32e7-0420-40ab-8d42-13c388948e5a"
      },
      "execution_count": 38,
      "outputs": [
        {
          "output_type": "stream",
          "name": "stdout",
          "text": [
            "<class 'pandas.core.frame.DataFrame'>\n",
            "<class 'pandas.core.frame.DataFrame'>\n"
          ]
        }
      ]
    },
    {
      "cell_type": "code",
      "source": [
        "# check the shape of the X and y\n",
        "print(X.shape)\n",
        "print(y.shape)"
      ],
      "metadata": {
        "colab": {
          "base_uri": "https://localhost:8080/"
        },
        "id": "wafvYJKPPYqm",
        "outputId": "53e9b49d-cd76-460d-ba45-28f4b38c97e1"
      },
      "execution_count": 39,
      "outputs": [
        {
          "output_type": "stream",
          "name": "stdout",
          "text": [
            "(5, 3)\n",
            "(5, 2)\n"
          ]
        }
      ]
    },
    {
      "cell_type": "code",
      "source": [
        "# convert the data to numpy\n",
        "X = X.values\n",
        "y = y.values"
      ],
      "metadata": {
        "id": "bHbHCPlaQYQl"
      },
      "execution_count": 40,
      "outputs": []
    },
    {
      "cell_type": "code",
      "source": [
        "# print the type\n",
        "print(type(X))\n",
        "print(type(y))"
      ],
      "metadata": {
        "colab": {
          "base_uri": "https://localhost:8080/"
        },
        "id": "8q2e6erGQdby",
        "outputId": "0310b1ed-0e64-436a-e3eb-385f09fd141a"
      },
      "execution_count": 41,
      "outputs": [
        {
          "output_type": "stream",
          "name": "stdout",
          "text": [
            "<class 'numpy.ndarray'>\n",
            "<class 'numpy.ndarray'>\n"
          ]
        }
      ]
    },
    {
      "cell_type": "code",
      "source": [
        "# convert the data to torch\n",
        "import torch\n",
        "X = torch.tensor(X, dtype=torch.float32)\n",
        "y = torch.tensor(y, dtype=torch.float32)"
      ],
      "metadata": {
        "id": "KHe_lnnUQha7"
      },
      "execution_count": 14,
      "outputs": []
    },
    {
      "cell_type": "code",
      "source": [
        "print(type(X))\n",
        "print(type(y))"
      ],
      "metadata": {
        "colab": {
          "base_uri": "https://localhost:8080/"
        },
        "id": "CoH7ad2HahS8",
        "outputId": "fc5d3f43-0bc6-436d-fc75-11f06110eb8a"
      },
      "execution_count": 15,
      "outputs": [
        {
          "output_type": "stream",
          "name": "stdout",
          "text": [
            "<class 'torch.Tensor'>\n",
            "<class 'torch.Tensor'>\n"
          ]
        }
      ]
    },
    {
      "cell_type": "code",
      "source": [
        "X"
      ],
      "metadata": {
        "colab": {
          "base_uri": "https://localhost:8080/"
        },
        "id": "1x_Z4RQHbwsq",
        "outputId": "a019c0ea-f7a2-4b5e-bdf5-6becd75845b9"
      },
      "execution_count": 16,
      "outputs": [
        {
          "output_type": "execute_result",
          "data": {
            "text/plain": [
              "tensor([[ 70.,  25., 100.],\n",
              "        [ 65.,  30.,  80.],\n",
              "        [ 80.,  28., 120.],\n",
              "        [ 60.,  32.,  90.],\n",
              "        [ 75.,  27., 110.]])"
            ]
          },
          "metadata": {},
          "execution_count": 16
        }
      ]
    },
    {
      "cell_type": "code",
      "source": [
        "y"
      ],
      "metadata": {
        "colab": {
          "base_uri": "https://localhost:8080/"
        },
        "id": "CIWy2sc2byrJ",
        "outputId": "25ee902b-975f-4b94-d880-9c0ea53e6ac0"
      },
      "execution_count": 17,
      "outputs": [
        {
          "output_type": "execute_result",
          "data": {
            "text/plain": [
              "tensor([[150., 160.],\n",
              "        [140., 155.],\n",
              "        [170., 180.],\n",
              "        [135., 145.],\n",
              "        [165., 175.]])"
            ]
          },
          "metadata": {},
          "execution_count": 17
        }
      ]
    },
    {
      "cell_type": "markdown",
      "source": [
        "####1.Each element in w is randomly initializing weight connecting a feature to a target.\n",
        "####2.Bias shifts the preiction curve to better fit the data.\n",
        "####3.requirres_grad True tells pytorch to track back for these weights during training."
      ],
      "metadata": {
        "id": "ptC6Vgl9sObg"
      }
    },
    {
      "cell_type": "code",
      "source": [
        "# convert X and y to tensor\n",
        "X = torch.tensor(X, dtype = torch.float32)\n",
        "y = torch.tensor(y, dtype = torch.float32)"
      ],
      "metadata": {
        "id": "4Ks6P49aAzhK"
      },
      "execution_count": 42,
      "outputs": []
    },
    {
      "cell_type": "code",
      "source": [
        "w = torch.randn(2, 3, requires_grad = True)\n",
        "b = torch.randn(2, requires_grad = True)"
      ],
      "metadata": {
        "id": "mX2bbyezAzSk"
      },
      "execution_count": 43,
      "outputs": []
    },
    {
      "cell_type": "code",
      "source": [
        "print(w)\n",
        "print(b)"
      ],
      "metadata": {
        "colab": {
          "base_uri": "https://localhost:8080/"
        },
        "id": "WnuDRbpoRRHu",
        "outputId": "94b3c5cc-0d15-4533-dffa-39c0f602d369"
      },
      "execution_count": 44,
      "outputs": [
        {
          "output_type": "stream",
          "name": "stdout",
          "text": [
            "tensor([[ 1.1640,  0.7965,  0.8543],\n",
            "        [-1.2539, -0.9568, -1.1002]], requires_grad=True)\n",
            "tensor([0.7784, 1.5675], requires_grad=True)\n"
          ]
        }
      ]
    },
    {
      "cell_type": "code",
      "source": [
        "# Linear regression model\n",
        "X @ w.t() + b"
      ],
      "metadata": {
        "colab": {
          "base_uri": "https://localhost:8080/"
        },
        "id": "Ne_GAXNPRM4z",
        "outputId": "6a496700-469f-4524-e8ad-46670496df2a"
      },
      "execution_count": 45,
      "outputs": [
        {
          "output_type": "execute_result",
          "data": {
            "text/plain": [
              "tensor([[ 187.6044, -220.1483],\n",
              "        [ 168.6808, -196.6586],\n",
              "        [ 218.7204, -257.5622],\n",
              "        [ 172.9967, -203.3051],\n",
              "        [ 203.5607, -239.3337]], grad_fn=<AddBackward0>)"
            ]
          },
          "metadata": {},
          "execution_count": 45
        }
      ]
    },
    {
      "cell_type": "code",
      "source": [
        "y"
      ],
      "metadata": {
        "colab": {
          "base_uri": "https://localhost:8080/"
        },
        "id": "ZdAmW6sVTZ1l",
        "outputId": "f9daea46-9580-4875-edb4-c43103adcd50"
      },
      "execution_count": 47,
      "outputs": [
        {
          "output_type": "execute_result",
          "data": {
            "text/plain": [
              "tensor([[150., 160.],\n",
              "        [140., 155.],\n",
              "        [170., 180.],\n",
              "        [135., 145.],\n",
              "        [165., 175.]])"
            ]
          },
          "metadata": {},
          "execution_count": 47
        }
      ]
    },
    {
      "cell_type": "markdown",
      "source": [
        "Note:\n",
        "✅ Use x @ w + b when w is (n_features, n_targets). 🔄 Use x @ w.t() + b only if w is (n_targets, n_features)."
      ],
      "metadata": {
        "id": "J1Fo3gsCpKdQ"
      }
    },
    {
      "cell_type": "code",
      "source": [
        "# now we want to define a function that calculates the linear regression\n",
        "def model(x):\n",
        "  return x @ w.t() + b\n"
      ],
      "metadata": {
        "id": "yhI-mP3wTrcD"
      },
      "execution_count": 48,
      "outputs": []
    },
    {
      "cell_type": "code",
      "source": [
        "preds = model(X)\n",
        "print(preds)"
      ],
      "metadata": {
        "colab": {
          "base_uri": "https://localhost:8080/"
        },
        "id": "KffMgZNWTrUP",
        "outputId": "37ee4587-eb54-4df3-f7b3-ec7123965443"
      },
      "execution_count": 49,
      "outputs": [
        {
          "output_type": "stream",
          "name": "stdout",
          "text": [
            "tensor([[ 187.6044, -220.1483],\n",
            "        [ 168.6808, -196.6586],\n",
            "        [ 218.7204, -257.5622],\n",
            "        [ 172.9967, -203.3051],\n",
            "        [ 203.5607, -239.3337]], grad_fn=<AddBackward0>)\n"
          ]
        }
      ]
    },
    {
      "cell_type": "code",
      "source": [
        "y"
      ],
      "metadata": {
        "colab": {
          "base_uri": "https://localhost:8080/"
        },
        "id": "hm4fAXLNTrNa",
        "outputId": "6f4116b4-2948-4b0c-9ba2-0f6eac4fa1b0"
      },
      "execution_count": 50,
      "outputs": [
        {
          "output_type": "execute_result",
          "data": {
            "text/plain": [
              "tensor([[150., 160.],\n",
              "        [140., 155.],\n",
              "        [170., 180.],\n",
              "        [135., 145.],\n",
              "        [165., 175.]])"
            ]
          },
          "metadata": {},
          "execution_count": 50
        }
      ]
    },
    {
      "cell_type": "code",
      "source": [
        "preds -y"
      ],
      "metadata": {
        "colab": {
          "base_uri": "https://localhost:8080/"
        },
        "id": "qkoxrUTBTjXD",
        "outputId": "beb4ebdf-d02b-45a5-e79c-023b62a8f3ba"
      },
      "execution_count": 51,
      "outputs": [
        {
          "output_type": "execute_result",
          "data": {
            "text/plain": [
              "tensor([[  37.6044, -380.1483],\n",
              "        [  28.6808, -351.6586],\n",
              "        [  48.7204, -437.5622],\n",
              "        [  37.9967, -348.3051],\n",
              "        [  38.5607, -414.3337]], grad_fn=<SubBackward0>)"
            ]
          },
          "metadata": {},
          "execution_count": 51
        }
      ]
    },
    {
      "cell_type": "code",
      "source": [
        "diff = preds - y\n",
        "torch.sum(diff * diff)/diff.numel()"
      ],
      "metadata": {
        "colab": {
          "base_uri": "https://localhost:8080/"
        },
        "id": "Fe9DzWdQXGW3",
        "outputId": "f2ee6c8e-3514-45b5-c3d2-7f68b9b51616"
      },
      "execution_count": 56,
      "outputs": [
        {
          "output_type": "execute_result",
          "data": {
            "text/plain": [
              "tensor(76016.7031, grad_fn=<DivBackward0>)"
            ]
          },
          "metadata": {},
          "execution_count": 56
        }
      ]
    },
    {
      "cell_type": "code",
      "source": [
        "# calculate MSE\n",
        "def mse(X, y):\n",
        "  diff = X -y\n",
        "  return torch.sum(diff * diff)/diff.numel()"
      ],
      "metadata": {
        "id": "XmL2t7vCYL3u"
      },
      "execution_count": 57,
      "outputs": []
    },
    {
      "cell_type": "code",
      "source": [
        "# compute loss\n",
        "loss = mse(preds, y)\n",
        "print(loss)"
      ],
      "metadata": {
        "colab": {
          "base_uri": "https://localhost:8080/"
        },
        "id": "FokLDF7bYL0U",
        "outputId": "6e5b3ed7-ca41-42b8-992e-1f1887006f1d"
      },
      "execution_count": 58,
      "outputs": [
        {
          "output_type": "stream",
          "name": "stdout",
          "text": [
            "tensor(76016.7031, grad_fn=<DivBackward0>)\n"
          ]
        }
      ]
    },
    {
      "cell_type": "code",
      "source": [
        "# compute gradients\n",
        "loss.backward()"
      ],
      "metadata": {
        "id": "TqvKICDmYLwz"
      },
      "execution_count": 59,
      "outputs": []
    },
    {
      "cell_type": "code",
      "source": [
        "# gradientsfor weights\n",
        "print(w)\n",
        "print(w.grad)"
      ],
      "metadata": {
        "colab": {
          "base_uri": "https://localhost:8080/"
        },
        "id": "vlxxcXivYLtF",
        "outputId": "0a1c5752-3817-41c5-9d20-f130922feec2"
      },
      "execution_count": 60,
      "outputs": [
        {
          "output_type": "stream",
          "name": "stdout",
          "text": [
            "tensor([[ 1.1640,  0.7965,  0.8543],\n",
            "        [-1.2539, -0.9568, -1.1002]], requires_grad=True)\n",
            "tensor([[  2713.2090,   1084.3477,   3912.5461],\n",
            "        [-27289.3027, -10927.5957, -39115.8281]])\n"
          ]
        }
      ]
    },
    {
      "cell_type": "code",
      "source": [
        "print(b)\n",
        "print(b.grad)"
      ],
      "metadata": {
        "colab": {
          "base_uri": "https://localhost:8080/"
        },
        "id": "1POeTebdYLqH",
        "outputId": "c0668998-2c94-49e9-fe88-b8b05c177121"
      },
      "execution_count": 61,
      "outputs": [
        {
          "output_type": "stream",
          "name": "stdout",
          "text": [
            "tensor([0.7784, 1.5675], requires_grad=True)\n",
            "tensor([  38.3126, -386.4016])\n"
          ]
        }
      ]
    },
    {
      "cell_type": "code",
      "source": [
        "with torch.no_grad():\n",
        "  w -= w.grad * 1e-5\n",
        "  b -= b.grad * 1e-5"
      ],
      "metadata": {
        "id": "obcGyvK1dHHY"
      },
      "execution_count": 62,
      "outputs": []
    },
    {
      "cell_type": "code",
      "source": [
        "print(w)\n",
        "print(w.grad)"
      ],
      "metadata": {
        "colab": {
          "base_uri": "https://localhost:8080/"
        },
        "id": "SJInXdlGdG5n",
        "outputId": "e2ddc470-110e-45fc-9f68-d27f9489c447"
      },
      "execution_count": 64,
      "outputs": [
        {
          "output_type": "stream",
          "name": "stdout",
          "text": [
            "tensor([[ 1.1369,  0.7857,  0.8152],\n",
            "        [-0.9810, -0.8476, -0.7091]], requires_grad=True)\n",
            "tensor([[  2713.2090,   1084.3477,   3912.5461],\n",
            "        [-27289.3027, -10927.5957, -39115.8281]])\n"
          ]
        }
      ]
    },
    {
      "cell_type": "code",
      "source": [
        "print(b)\n",
        "print(b.grad)"
      ],
      "metadata": {
        "colab": {
          "base_uri": "https://localhost:8080/"
        },
        "id": "H2zRCzxPdGqZ",
        "outputId": "4fc5caa1-b66a-4401-c65f-95aa8e1f1858"
      },
      "execution_count": 65,
      "outputs": [
        {
          "output_type": "stream",
          "name": "stdout",
          "text": [
            "tensor([0.7781, 1.5714], requires_grad=True)\n",
            "tensor([  38.3126, -386.4016])\n"
          ]
        }
      ]
    },
    {
      "cell_type": "code",
      "source": [
        "loss = mse(preds, y)\n",
        "print(loss)"
      ],
      "metadata": {
        "colab": {
          "base_uri": "https://localhost:8080/"
        },
        "id": "5n5JuJ5AYLjt",
        "outputId": "146d6390-4d63-47aa-ab0d-38af82693499"
      },
      "execution_count": 67,
      "outputs": [
        {
          "output_type": "stream",
          "name": "stdout",
          "text": [
            "tensor(76016.7031, grad_fn=<DivBackward0>)\n"
          ]
        }
      ]
    },
    {
      "cell_type": "markdown",
      "source": [
        "Update the weights and biases\n",
        "update the model parameters to reduce the loss in the next iteration"
      ],
      "metadata": {
        "id": "xp9wsdCzodJd"
      }
    },
    {
      "cell_type": "code",
      "source": [
        "w.grad.zero_()\n",
        "b.grad.zero_()\n",
        "print(w.grad)\n",
        "print(b.grad)"
      ],
      "metadata": {
        "colab": {
          "base_uri": "https://localhost:8080/"
        },
        "id": "CNNk8Huyd8pp",
        "outputId": "3e2a097c-4e0a-4508-eab1-697d710b2b64"
      },
      "execution_count": 68,
      "outputs": [
        {
          "output_type": "stream",
          "name": "stdout",
          "text": [
            "tensor([[0., 0., 0.],\n",
            "        [0., 0., 0.]])\n",
            "tensor([0., 0.])\n"
          ]
        }
      ]
    },
    {
      "cell_type": "code",
      "source": [
        "print(w)\n",
        "print(b)"
      ],
      "metadata": {
        "colab": {
          "base_uri": "https://localhost:8080/"
        },
        "id": "jtdpsMxnd8m9",
        "outputId": "0b118b0c-09da-4e1b-dfb0-5c5ddf96f4db"
      },
      "execution_count": 69,
      "outputs": [
        {
          "output_type": "stream",
          "name": "stdout",
          "text": [
            "tensor([[ 1.1369,  0.7857,  0.8152],\n",
            "        [-0.9810, -0.8476, -0.7091]], requires_grad=True)\n",
            "tensor([0.7781, 1.5714], requires_grad=True)\n"
          ]
        }
      ]
    },
    {
      "cell_type": "code",
      "source": [
        "for i in range(100):\n",
        "  preds = model(X)\n",
        "  loss = mse(preds, y)\n",
        "  loss.backward()\n",
        "  with torch.no_grad():\n",
        "    w -= w.grad * 1e-5\n",
        "    b -= b.grad * 1e-5\n",
        "    w.grad.zero_()\n",
        "    b.grad.zero_()"
      ],
      "metadata": {
        "id": "mBxOTGaZd8in"
      },
      "execution_count": 70,
      "outputs": []
    },
    {
      "cell_type": "code",
      "source": [
        "loss = mse(preds, y)\n",
        "print(loss)"
      ],
      "metadata": {
        "colab": {
          "base_uri": "https://localhost:8080/"
        },
        "id": "M0a0C4cRd8e0",
        "outputId": "adf9b89a-6d19-40ea-c884-5162ca759ae4"
      },
      "execution_count": 71,
      "outputs": [
        {
          "output_type": "stream",
          "name": "stdout",
          "text": [
            "tensor(75.3322, grad_fn=<DivBackward0>)\n"
          ]
        }
      ]
    },
    {
      "cell_type": "markdown",
      "source": [
        "Repeat with multiple Epoches\n",
        "wrap above steps training loop to improve over multiple iterations.\n",
        "iteration is called an epoch. let's train the model for 100 epochs"
      ],
      "metadata": {
        "id": "LeJPFls4hJi4"
      }
    },
    {
      "cell_type": "code",
      "source": [
        "for i in range(100):\n",
        "  preds = model(X)\n",
        "  loss = mse(preds, y)\n",
        "  loss.backward()\n",
        "  with torch.no_grad():\n",
        "    w -= w.grad * 1e-5\n",
        "    b -= b.grad * 1e-5\n",
        "    w.grad.zero_()\n",
        "    b.grad.zero_()"
      ],
      "metadata": {
        "id": "Av8EqnIEd8bZ"
      },
      "execution_count": 72,
      "outputs": []
    },
    {
      "cell_type": "code",
      "source": [
        "loss = mse(preds, y)\n",
        "print(loss)"
      ],
      "metadata": {
        "colab": {
          "base_uri": "https://localhost:8080/"
        },
        "id": "MDt5aB60d8Yl",
        "outputId": "a4e9f52f-55f1-4b40-9514-30312e76535d"
      },
      "execution_count": 73,
      "outputs": [
        {
          "output_type": "stream",
          "name": "stdout",
          "text": [
            "tensor(71.3528, grad_fn=<DivBackward0>)\n"
          ]
        }
      ]
    },
    {
      "cell_type": "code",
      "source": [
        "for i in range(100):\n",
        "  preds = model(X)\n",
        "  loss = mse(preds, y)\n",
        "  loss.backward()\n",
        "  with torch.no_grad():\n",
        "    w -= w.grad * 1e-5\n",
        "    b -= b.grad * 1e-5\n",
        "    w.grad.zero_()\n",
        "    b.grad.zero_()"
      ],
      "metadata": {
        "id": "I-pnH9O0d8Uu"
      },
      "execution_count": 74,
      "outputs": []
    },
    {
      "cell_type": "code",
      "source": [
        "loss = mse(preds, y)\n",
        "print(loss)"
      ],
      "metadata": {
        "colab": {
          "base_uri": "https://localhost:8080/"
        },
        "id": "5GTs1Ovkd8Rq",
        "outputId": "9c7c4c90-fdc6-426b-94de-18a47651dfe1"
      },
      "execution_count": 75,
      "outputs": [
        {
          "output_type": "stream",
          "name": "stdout",
          "text": [
            "tensor(67.6135, grad_fn=<DivBackward0>)\n"
          ]
        }
      ]
    },
    {
      "cell_type": "code",
      "source": [
        "# take the sqrt of the loss\n",
        "loss.sqrt()"
      ],
      "metadata": {
        "colab": {
          "base_uri": "https://localhost:8080/"
        },
        "id": "GJwWu-Lxd8Eh",
        "outputId": "2e7c26b8-0bd8-4498-a8e1-a06878121624"
      },
      "execution_count": 76,
      "outputs": [
        {
          "output_type": "execute_result",
          "data": {
            "text/plain": [
              "tensor(8.2227, grad_fn=<SqrtBackward0>)"
            ]
          },
          "metadata": {},
          "execution_count": 76
        }
      ]
    },
    {
      "cell_type": "markdown",
      "source": [
        "Ultimately, we want to minimize the loss as much as possible"
      ],
      "metadata": {
        "id": "hH4ykAVKhaad"
      }
    },
    {
      "cell_type": "code",
      "source": [],
      "metadata": {
        "id": "ua64GLSspi46"
      },
      "execution_count": null,
      "outputs": []
    }
  ]
}