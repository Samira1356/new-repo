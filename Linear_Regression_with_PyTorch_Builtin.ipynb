{
  "nbformat": 4,
  "nbformat_minor": 0,
  "metadata": {
    "colab": {
      "provenance": [],
      "authorship_tag": "ABX9TyNKE6qdpi8oRLVRdsfxIUDD",
      "include_colab_link": true
    },
    "kernelspec": {
      "name": "python3",
      "display_name": "Python 3"
    },
    "language_info": {
      "name": "python"
    }
  },
  "cells": [
    {
      "cell_type": "markdown",
      "metadata": {
        "id": "view-in-github",
        "colab_type": "text"
      },
      "source": [
        "<a href=\"https://colab.research.google.com/github/Samira1356/new-repo/blob/main/Linear_Regression_with_PyTorch_Builtin.ipynb\" target=\"_parent\"><img src=\"https://colab.research.google.com/assets/colab-badge.svg\" alt=\"Open In Colab\"/></a>"
      ]
    },
    {
      "cell_type": "code",
      "execution_count": 8,
      "metadata": {
        "id": "BHhPT34nijX7"
      },
      "outputs": [],
      "source": [
        "import numpy as np\n",
        "import torch\n",
        "import torch.nn as nn"
      ]
    },
    {
      "cell_type": "code",
      "source": [
        "inputs = np.array([\n",
        "    [88, 25, 148],\n",
        "    [78, 24, 108],\n",
        "    [64, 21, 118],\n",
        "    [57, 27, 101],\n",
        "    [70, 31, 119],\n",
        "    [88, 33, 139],\n",
        "    [68, 25, 74],\n",
        "    [72, 21, 121],\n",
        "    [60, 31, 121],\n",
        "    [60, 24, 106],\n",
        "    [73, 20, 121],\n",
        "    [85, 31, 110],\n",
        "    [89, 29, 114],\n",
        "    [73, 25, 123],\n",
        "    [52, 32, 62]\n",
        "])\n",
        "targets = np.array([\n",
        "    [170, 137],\n",
        "    [126, 176],\n",
        "    [140, 164],\n",
        "    [192, 207],\n",
        "    [158, 165],\n",
        "    [137, 179],\n",
        "    [123, 133],\n",
        "    [179, 131],\n",
        "    [133, 135],\n",
        "    [128, 183],\n",
        "    [172, 133],\n",
        "    [121, 183],\n",
        "    [179, 192],\n",
        "    [190, 147],\n",
        "    [163, 173]\n",
        "])\n"
      ],
      "metadata": {
        "id": "jJ3bp56zjYQD"
      },
      "execution_count": 9,
      "outputs": []
    },
    {
      "cell_type": "code",
      "source": [
        "inputs = torch.from_numpy(inputs)\n",
        "targets = torch.from_numpy(targets)"
      ],
      "metadata": {
        "id": "uJxASrjplE69"
      },
      "execution_count": 10,
      "outputs": []
    },
    {
      "cell_type": "code",
      "source": [
        "print(type(inputs))\n",
        "print(type(targets))"
      ],
      "metadata": {
        "colab": {
          "base_uri": "https://localhost:8080/"
        },
        "id": "x12GV4TJlh8U",
        "outputId": "4ad23c24-c46a-4ded-b51d-b1aa45ab4ba2"
      },
      "execution_count": 11,
      "outputs": [
        {
          "output_type": "stream",
          "name": "stdout",
          "text": [
            "<class 'torch.Tensor'>\n",
            "<class 'torch.Tensor'>\n"
          ]
        }
      ]
    },
    {
      "cell_type": "code",
      "source": [
        "inputs.shape"
      ],
      "metadata": {
        "colab": {
          "base_uri": "https://localhost:8080/"
        },
        "id": "NkVjRpatl46c",
        "outputId": "6b320124-ac02-4b11-fe3f-2261d14f18ee"
      },
      "execution_count": 13,
      "outputs": [
        {
          "output_type": "execute_result",
          "data": {
            "text/plain": [
              "torch.Size([15, 3])"
            ]
          },
          "metadata": {},
          "execution_count": 13
        }
      ]
    },
    {
      "cell_type": "code",
      "source": [
        "targets.shape"
      ],
      "metadata": {
        "colab": {
          "base_uri": "https://localhost:8080/"
        },
        "id": "XiA5D8_ql-kR",
        "outputId": "b3d743e2-f358-46e3-bb00-f9fbb95deb69"
      },
      "execution_count": 14,
      "outputs": [
        {
          "output_type": "execute_result",
          "data": {
            "text/plain": [
              "torch.Size([15, 2])"
            ]
          },
          "metadata": {},
          "execution_count": 14
        }
      ]
    },
    {
      "cell_type": "code",
      "source": [],
      "metadata": {
        "id": "QurGBmBJmJId"
      },
      "execution_count": null,
      "outputs": []
    }
  ]
}